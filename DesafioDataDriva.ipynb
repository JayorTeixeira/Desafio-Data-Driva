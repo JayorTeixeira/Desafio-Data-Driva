{
  "nbformat": 4,
  "nbformat_minor": 0,
  "metadata": {
    "colab": {
      "name": "Untitled0.ipynb",
      "provenance": []
    },
    "kernelspec": {
      "name": "python3",
      "display_name": "Python 3"
    },
    "language_info": {
      "name": "python"
    }
  },
  "cells": [
    {
      "cell_type": "markdown",
      "metadata": {
        "id": "OV7hagd3FDOJ"
      },
      "source": [
        "---\n",
        "# **Desafio - Vaga de Estágio Driva**\n",
        "## **Candidato: Jayor Nesi Teixeira**\n",
        "### **Engenharia de Computação - Universidade Federal de Santa Catarina**\n",
        "\n",
        "---\n",
        "\n",
        "\n",
        "\n",
        "*   Leia o arquivo \"DadosEmpresa.csv\";\n",
        "*   Leia o arquivo \"DadosEndereco.csv\";\n",
        "*   Gere um arquivo csv com todas as empresas que tem opção_pelo_simples como SIM;\n",
        "*   Gere outro arquivo csv que contenha todas as informações das empresas que são de Curitiba ou de Londrina e que tenham capital social maior que 5000 reais.\n",
        "*   Faça um gráfico que mostre o total de empresas em cada bairro de Curitiba. (utilize uma biblioteca de sua escolha);\n",
        "*   Observando os dois arquivos, qual outra analise de dados você faria? Implemente ela e escreva em um comentário o porque pensou nela.\n",
        "\n",
        "\n",
        "---\n",
        "# **Hands-on**\n"
      ]
    },
    {
      "cell_type": "markdown",
      "metadata": {
        "id": "wmGDmM7SIXiR"
      },
      "source": [
        "#####**Importando a biblioteca Pandas:**"
      ]
    },
    {
      "cell_type": "code",
      "metadata": {
        "id": "BZ8TFH9UF-t6"
      },
      "source": [
        "import pandas as pd"
      ],
      "execution_count": 1,
      "outputs": []
    },
    {
      "cell_type": "markdown",
      "metadata": {
        "id": "azF9_ellGWZc"
      },
      "source": [
        "#####**1) Leia o arquivo \"DadosEmpresa.csv\"**"
      ]
    },
    {
      "cell_type": "code",
      "metadata": {
        "colab": {
          "base_uri": "https://localhost:8080/",
          "height": 241
        },
        "id": "Gpf1BPQnI1PO",
        "outputId": "3156ac19-1b5a-4bee-bb89-a63008bd75b0"
      },
      "source": [
        "df_Empresa = pd.read_csv('DadosEmpresa.csv')\n",
        "\n",
        "#imprime as 5 primeiras linhas da tabela:\n",
        "df_Empresa.head()"
      ],
      "execution_count": 2,
      "outputs": [
        {
          "output_type": "execute_result",
          "data": {
            "text/html": [
              "<div>\n",
              "<style scoped>\n",
              "    .dataframe tbody tr th:only-of-type {\n",
              "        vertical-align: middle;\n",
              "    }\n",
              "\n",
              "    .dataframe tbody tr th {\n",
              "        vertical-align: top;\n",
              "    }\n",
              "\n",
              "    .dataframe thead th {\n",
              "        text-align: right;\n",
              "    }\n",
              "</style>\n",
              "<table border=\"1\" class=\"dataframe\">\n",
              "  <thead>\n",
              "    <tr style=\"text-align: right;\">\n",
              "      <th></th>\n",
              "      <th>cnpj</th>\n",
              "      <th>raiz_cnpj</th>\n",
              "      <th>matriz_filial</th>\n",
              "      <th>razao_social</th>\n",
              "      <th>opcao_pelo_simples</th>\n",
              "      <th>capital_social</th>\n",
              "    </tr>\n",
              "  </thead>\n",
              "  <tbody>\n",
              "    <tr>\n",
              "      <th>0</th>\n",
              "      <td>126195000110</td>\n",
              "      <td>126195</td>\n",
              "      <td>MATRIZ</td>\n",
              "      <td>TRAMA SOFTWARE LTDA</td>\n",
              "      <td>NAO</td>\n",
              "      <td>0</td>\n",
              "    </tr>\n",
              "    <tr>\n",
              "      <th>1</th>\n",
              "      <td>155991000181</td>\n",
              "      <td>155991</td>\n",
              "      <td>MATRIZ</td>\n",
              "      <td>ELEKTI - APOIO A EDUCACAO E FORNECIMENTO DE BO...</td>\n",
              "      <td>NAO</td>\n",
              "      <td>40000</td>\n",
              "    </tr>\n",
              "    <tr>\n",
              "      <th>2</th>\n",
              "      <td>321106000197</td>\n",
              "      <td>321106</td>\n",
              "      <td>MATRIZ</td>\n",
              "      <td>VIRTUAL TECNOLOGIA &amp; SERVICOS LTDA</td>\n",
              "      <td>NAO</td>\n",
              "      <td>5000</td>\n",
              "    </tr>\n",
              "    <tr>\n",
              "      <th>3</th>\n",
              "      <td>358376000172</td>\n",
              "      <td>358376</td>\n",
              "      <td>MATRIZ</td>\n",
              "      <td>SARTOR ASSESSORIA E COMERCIO DE INFORMATICA LTDA</td>\n",
              "      <td>SIM</td>\n",
              "      <td>0</td>\n",
              "    </tr>\n",
              "    <tr>\n",
              "      <th>4</th>\n",
              "      <td>563375000160</td>\n",
              "      <td>563375</td>\n",
              "      <td>MATRIZ</td>\n",
              "      <td>INDEXX INFORMATICA LTDA</td>\n",
              "      <td>SIM</td>\n",
              "      <td>0</td>\n",
              "    </tr>\n",
              "  </tbody>\n",
              "</table>\n",
              "</div>"
            ],
            "text/plain": [
              "           cnpj  raiz_cnpj  ... opcao_pelo_simples capital_social\n",
              "0  126195000110     126195  ...                NAO              0\n",
              "1  155991000181     155991  ...                NAO          40000\n",
              "2  321106000197     321106  ...                NAO           5000\n",
              "3  358376000172     358376  ...                SIM              0\n",
              "4  563375000160     563375  ...                SIM              0\n",
              "\n",
              "[5 rows x 6 columns]"
            ]
          },
          "metadata": {},
          "execution_count": 2
        }
      ]
    },
    {
      "cell_type": "markdown",
      "metadata": {
        "id": "rahkW6d-KGX8"
      },
      "source": [
        "#####**2) Leia o arquivo \"DadosEndereco.csv\"**"
      ]
    },
    {
      "cell_type": "code",
      "metadata": {
        "colab": {
          "base_uri": "https://localhost:8080/",
          "height": 206
        },
        "id": "PrxFcqhRKNL4",
        "outputId": "23afc00a-ca6f-408b-9077-e125f257ab26"
      },
      "source": [
        "df_Endereco = pd.read_csv('DadosEndereco.csv')\n",
        "\n",
        "#imprime as 5 primeiras linhas da tabela:\n",
        "df_Endereco.head()"
      ],
      "execution_count": 3,
      "outputs": [
        {
          "output_type": "execute_result",
          "data": {
            "text/html": [
              "<div>\n",
              "<style scoped>\n",
              "    .dataframe tbody tr th:only-of-type {\n",
              "        vertical-align: middle;\n",
              "    }\n",
              "\n",
              "    .dataframe tbody tr th {\n",
              "        vertical-align: top;\n",
              "    }\n",
              "\n",
              "    .dataframe thead th {\n",
              "        text-align: right;\n",
              "    }\n",
              "</style>\n",
              "<table border=\"1\" class=\"dataframe\">\n",
              "  <thead>\n",
              "    <tr style=\"text-align: right;\">\n",
              "      <th></th>\n",
              "      <th>cnpj</th>\n",
              "      <th>bairro</th>\n",
              "      <th>municipio</th>\n",
              "    </tr>\n",
              "  </thead>\n",
              "  <tbody>\n",
              "    <tr>\n",
              "      <th>0</th>\n",
              "      <td>126195000110</td>\n",
              "      <td>BIGORRILHO</td>\n",
              "      <td>CURITIBA</td>\n",
              "    </tr>\n",
              "    <tr>\n",
              "      <th>1</th>\n",
              "      <td>155991000181</td>\n",
              "      <td>CENTRO</td>\n",
              "      <td>LAPA</td>\n",
              "    </tr>\n",
              "    <tr>\n",
              "      <th>2</th>\n",
              "      <td>321106000197</td>\n",
              "      <td>PRIMAVERA</td>\n",
              "      <td>NOVO HAMBURGO</td>\n",
              "    </tr>\n",
              "    <tr>\n",
              "      <th>3</th>\n",
              "      <td>358376000172</td>\n",
              "      <td>SAO PELEGRINO</td>\n",
              "      <td>CAXIAS DO SUL</td>\n",
              "    </tr>\n",
              "    <tr>\n",
              "      <th>4</th>\n",
              "      <td>563375000160</td>\n",
              "      <td>CENTRO</td>\n",
              "      <td>TRES COROAS</td>\n",
              "    </tr>\n",
              "  </tbody>\n",
              "</table>\n",
              "</div>"
            ],
            "text/plain": [
              "           cnpj         bairro      municipio\n",
              "0  126195000110     BIGORRILHO       CURITIBA\n",
              "1  155991000181         CENTRO           LAPA\n",
              "2  321106000197      PRIMAVERA  NOVO HAMBURGO\n",
              "3  358376000172  SAO PELEGRINO  CAXIAS DO SUL\n",
              "4  563375000160         CENTRO    TRES COROAS"
            ]
          },
          "metadata": {},
          "execution_count": 3
        }
      ]
    },
    {
      "cell_type": "markdown",
      "metadata": {
        "id": "TkwrDTP6ULQc"
      },
      "source": [
        "#####**3) Gere um arquivo csv com todas as empresas que tem opção_pelo_simples como SIM**"
      ]
    },
    {
      "cell_type": "code",
      "metadata": {
        "colab": {
          "base_uri": "https://localhost:8080/",
          "height": 241
        },
        "id": "25FZaW7pUMA9",
        "outputId": "81e7e8f5-1bbd-4463-b52c-99b96a2d0994"
      },
      "source": [
        "#filtrando o dataframe original\n",
        "df_simples_sim = df_Empresa.loc[df_Empresa['opcao_pelo_simples']=='SIM']\n",
        "\n",
        "#exportando o dataframe pandas para um arquivo csv:\n",
        "df_simples_sim.to_csv('simples_sim.csv', index = 'FALSE')\n",
        "\n",
        "df_simples_sim.head()"
      ],
      "execution_count": 4,
      "outputs": [
        {
          "output_type": "execute_result",
          "data": {
            "text/html": [
              "<div>\n",
              "<style scoped>\n",
              "    .dataframe tbody tr th:only-of-type {\n",
              "        vertical-align: middle;\n",
              "    }\n",
              "\n",
              "    .dataframe tbody tr th {\n",
              "        vertical-align: top;\n",
              "    }\n",
              "\n",
              "    .dataframe thead th {\n",
              "        text-align: right;\n",
              "    }\n",
              "</style>\n",
              "<table border=\"1\" class=\"dataframe\">\n",
              "  <thead>\n",
              "    <tr style=\"text-align: right;\">\n",
              "      <th></th>\n",
              "      <th>cnpj</th>\n",
              "      <th>raiz_cnpj</th>\n",
              "      <th>matriz_filial</th>\n",
              "      <th>razao_social</th>\n",
              "      <th>opcao_pelo_simples</th>\n",
              "      <th>capital_social</th>\n",
              "    </tr>\n",
              "  </thead>\n",
              "  <tbody>\n",
              "    <tr>\n",
              "      <th>3</th>\n",
              "      <td>358376000172</td>\n",
              "      <td>358376</td>\n",
              "      <td>MATRIZ</td>\n",
              "      <td>SARTOR ASSESSORIA E COMERCIO DE INFORMATICA LTDA</td>\n",
              "      <td>SIM</td>\n",
              "      <td>0</td>\n",
              "    </tr>\n",
              "    <tr>\n",
              "      <th>4</th>\n",
              "      <td>563375000160</td>\n",
              "      <td>563375</td>\n",
              "      <td>MATRIZ</td>\n",
              "      <td>INDEXX INFORMATICA LTDA</td>\n",
              "      <td>SIM</td>\n",
              "      <td>0</td>\n",
              "    </tr>\n",
              "    <tr>\n",
              "      <th>5</th>\n",
              "      <td>586312000129</td>\n",
              "      <td>586312</td>\n",
              "      <td>MATRIZ</td>\n",
              "      <td>DATAMICRO SISTEMAS LTDA</td>\n",
              "      <td>SIM</td>\n",
              "      <td>0</td>\n",
              "    </tr>\n",
              "    <tr>\n",
              "      <th>6</th>\n",
              "      <td>587384000190</td>\n",
              "      <td>587384</td>\n",
              "      <td>MATRIZ</td>\n",
              "      <td>INOVATIVA INFORMATICA LTDA</td>\n",
              "      <td>SIM</td>\n",
              "      <td>0</td>\n",
              "    </tr>\n",
              "    <tr>\n",
              "      <th>10</th>\n",
              "      <td>841331000154</td>\n",
              "      <td>841331</td>\n",
              "      <td>MATRIZ</td>\n",
              "      <td>SOFTNEW SISTEMAS E CONSULTORIA EM INFORMATICA ...</td>\n",
              "      <td>SIM</td>\n",
              "      <td>15000</td>\n",
              "    </tr>\n",
              "  </tbody>\n",
              "</table>\n",
              "</div>"
            ],
            "text/plain": [
              "            cnpj  raiz_cnpj  ... opcao_pelo_simples capital_social\n",
              "3   358376000172     358376  ...                SIM              0\n",
              "4   563375000160     563375  ...                SIM              0\n",
              "5   586312000129     586312  ...                SIM              0\n",
              "6   587384000190     587384  ...                SIM              0\n",
              "10  841331000154     841331  ...                SIM          15000\n",
              "\n",
              "[5 rows x 6 columns]"
            ]
          },
          "metadata": {},
          "execution_count": 4
        }
      ]
    },
    {
      "cell_type": "markdown",
      "metadata": {
        "id": "E6AbxHbFViqW"
      },
      "source": [
        "#####**4) Gere outro arquivo csv que contenha todas as informações das empresas que são de Curitiba ou de Londrina e que tenham capital social maior que 5000 reais.**\n"
      ]
    },
    {
      "cell_type": "code",
      "metadata": {
        "colab": {
          "base_uri": "https://localhost:8080/",
          "height": 414
        },
        "id": "hOqnMDiVVsPL",
        "outputId": "78ebe26a-8493-4eff-b91c-98934fa11c01"
      },
      "source": [
        "#Antes de tudo faremos um merge dos dois arquivos csv pela coluna csv, \n",
        "# a fim de ter todas as informações em um único lugar\n",
        "df_merged = pd.merge(df_Empresa, df_Endereco, how='inner', on='cnpj')\n",
        "\n",
        "df_merged.head()"
      ],
      "execution_count": 5,
      "outputs": [
        {
          "output_type": "execute_result",
          "data": {
            "text/html": [
              "<div>\n",
              "<style scoped>\n",
              "    .dataframe tbody tr th:only-of-type {\n",
              "        vertical-align: middle;\n",
              "    }\n",
              "\n",
              "    .dataframe tbody tr th {\n",
              "        vertical-align: top;\n",
              "    }\n",
              "\n",
              "    .dataframe thead th {\n",
              "        text-align: right;\n",
              "    }\n",
              "</style>\n",
              "<table border=\"1\" class=\"dataframe\">\n",
              "  <thead>\n",
              "    <tr style=\"text-align: right;\">\n",
              "      <th></th>\n",
              "      <th>cnpj</th>\n",
              "      <th>raiz_cnpj</th>\n",
              "      <th>matriz_filial</th>\n",
              "      <th>razao_social</th>\n",
              "      <th>opcao_pelo_simples</th>\n",
              "      <th>capital_social</th>\n",
              "      <th>bairro</th>\n",
              "      <th>municipio</th>\n",
              "    </tr>\n",
              "  </thead>\n",
              "  <tbody>\n",
              "    <tr>\n",
              "      <th>0</th>\n",
              "      <td>126195000110</td>\n",
              "      <td>126195</td>\n",
              "      <td>MATRIZ</td>\n",
              "      <td>TRAMA SOFTWARE LTDA</td>\n",
              "      <td>NAO</td>\n",
              "      <td>0</td>\n",
              "      <td>BIGORRILHO</td>\n",
              "      <td>CURITIBA</td>\n",
              "    </tr>\n",
              "    <tr>\n",
              "      <th>1</th>\n",
              "      <td>155991000181</td>\n",
              "      <td>155991</td>\n",
              "      <td>MATRIZ</td>\n",
              "      <td>ELEKTI - APOIO A EDUCACAO E FORNECIMENTO DE BO...</td>\n",
              "      <td>NAO</td>\n",
              "      <td>40000</td>\n",
              "      <td>CENTRO</td>\n",
              "      <td>LAPA</td>\n",
              "    </tr>\n",
              "    <tr>\n",
              "      <th>2</th>\n",
              "      <td>321106000197</td>\n",
              "      <td>321106</td>\n",
              "      <td>MATRIZ</td>\n",
              "      <td>VIRTUAL TECNOLOGIA &amp; SERVICOS LTDA</td>\n",
              "      <td>NAO</td>\n",
              "      <td>5000</td>\n",
              "      <td>PRIMAVERA</td>\n",
              "      <td>NOVO HAMBURGO</td>\n",
              "    </tr>\n",
              "    <tr>\n",
              "      <th>3</th>\n",
              "      <td>358376000172</td>\n",
              "      <td>358376</td>\n",
              "      <td>MATRIZ</td>\n",
              "      <td>SARTOR ASSESSORIA E COMERCIO DE INFORMATICA LTDA</td>\n",
              "      <td>SIM</td>\n",
              "      <td>0</td>\n",
              "      <td>SAO PELEGRINO</td>\n",
              "      <td>CAXIAS DO SUL</td>\n",
              "    </tr>\n",
              "    <tr>\n",
              "      <th>4</th>\n",
              "      <td>563375000160</td>\n",
              "      <td>563375</td>\n",
              "      <td>MATRIZ</td>\n",
              "      <td>INDEXX INFORMATICA LTDA</td>\n",
              "      <td>SIM</td>\n",
              "      <td>0</td>\n",
              "      <td>CENTRO</td>\n",
              "      <td>TRES COROAS</td>\n",
              "    </tr>\n",
              "  </tbody>\n",
              "</table>\n",
              "</div>"
            ],
            "text/plain": [
              "           cnpj  raiz_cnpj  ...         bairro      municipio\n",
              "0  126195000110     126195  ...     BIGORRILHO       CURITIBA\n",
              "1  155991000181     155991  ...         CENTRO           LAPA\n",
              "2  321106000197     321106  ...      PRIMAVERA  NOVO HAMBURGO\n",
              "3  358376000172     358376  ...  SAO PELEGRINO  CAXIAS DO SUL\n",
              "4  563375000160     563375  ...         CENTRO    TRES COROAS\n",
              "\n",
              "[5 rows x 8 columns]"
            ]
          },
          "metadata": {},
          "execution_count": 5
        }
      ]
    },
    {
      "cell_type": "code",
      "metadata": {
        "id": "81Ynu0t3XCYd"
      },
      "source": [
        "#filtrando o dataframe para a cidade de CURITIBA:\n",
        "df_curitiba = df_merged.loc[(df_merged['municipio']=='CURITIBA') & (df_merged['capital_social'] > 5000)]\n",
        "\n",
        "#filtrando o dataframe para a cidade de LONDRINA:\n",
        "df_londrina = df_merged.loc[(df_merged['municipio']=='LONDRINA') & (df_merged['capital_social'] > 5000)]\n",
        "\n",
        "#merge dos dataframes filtrados:\n",
        "\n",
        "df_final = pd.merge(df_curitiba, df_londrina, how='outer')\n",
        "\n",
        "\n",
        "#exportando o dataframe pandas para um arquivo csv:\n",
        "df_final.to_csv('df_final.csv', index = 'FALSE')"
      ],
      "execution_count": 8,
      "outputs": []
    },
    {
      "cell_type": "markdown",
      "metadata": {
        "id": "Zlu20O55gxy6"
      },
      "source": [
        "#####**5) Faça um gráfico que mostre o total de empresas em cada bairro de Curitiba**"
      ]
    },
    {
      "cell_type": "code",
      "metadata": {
        "colab": {
          "base_uri": "https://localhost:8080/",
          "height": 401
        },
        "id": "CbIx9Vv_gyOS",
        "outputId": "78b71819-77a7-49ad-ec79-e3013d97a0df"
      },
      "source": [
        "df_curitiba.groupby(['bairro']).municipio.count().sort_values().plot(kind='bar')"
      ],
      "execution_count": 14,
      "outputs": [
        {
          "output_type": "execute_result",
          "data": {
            "text/plain": [
              "<matplotlib.axes._subplots.AxesSubplot at 0x7fa29e911090>"
            ]
          },
          "metadata": {},
          "execution_count": 14
        },
        {
          "output_type": "display_data",
          "data": {
            "image/png": "[encoded data removed]",
            "text/plain": [
              "<Figure size 432x288 with 1 Axes>"
            ]
          },
          "metadata": {
            "needs_background": "light"
          }
        }
      ]
    },
    {
      "cell_type": "markdown",
      "metadata": {
        "id": "Sgn2ZdyQioX2"
      },
      "source": [
        "#####**6) Observando os dois arquivos, qual outra analise de dados você faria? Implemente ela e escreva em um comentário o porque pensou nela.**"
      ]
    },
    {
      "cell_type": "code",
      "metadata": {
        "colab": {
          "base_uri": "https://localhost:8080/",
          "height": 178
        },
        "id": "hNdWg-wkhao6",
        "outputId": "79280a52-afd7-421c-87fd-25a18a2b3208"
      },
      "source": [
        "#vamos obter as 3 empresas com maior capital social que optaram e que não optaram pelo simples, para ver se há relação\n",
        "#entre a opção com o valor do capital social ser alto ou baixo\n",
        "\n",
        "#aproveitando o dataframe já obtido das que optaram pelo simples:\n",
        "df_simples_sim.sort_values(by=['capital_social'], ascending=False).head(3)"
      ],
      "execution_count": 27,
      "outputs": [
        {
          "output_type": "execute_result",
          "data": {
            "text/html": [
              "<div>\n",
              "<style scoped>\n",
              "    .dataframe tbody tr th:only-of-type {\n",
              "        vertical-align: middle;\n",
              "    }\n",
              "\n",
              "    .dataframe tbody tr th {\n",
              "        vertical-align: top;\n",
              "    }\n",
              "\n",
              "    .dataframe thead th {\n",
              "        text-align: right;\n",
              "    }\n",
              "</style>\n",
              "<table border=\"1\" class=\"dataframe\">\n",
              "  <thead>\n",
              "    <tr style=\"text-align: right;\">\n",
              "      <th></th>\n",
              "      <th>cnpj</th>\n",
              "      <th>raiz_cnpj</th>\n",
              "      <th>matriz_filial</th>\n",
              "      <th>razao_social</th>\n",
              "      <th>opcao_pelo_simples</th>\n",
              "      <th>capital_social</th>\n",
              "    </tr>\n",
              "  </thead>\n",
              "  <tbody>\n",
              "    <tr>\n",
              "      <th>571</th>\n",
              "      <td>33067005000190</td>\n",
              "      <td>33067005</td>\n",
              "      <td>MATRIZ</td>\n",
              "      <td>DALMIR CONSULTORIA EM TECNOLOGIA DA INFORMACAO...</td>\n",
              "      <td>SIM</td>\n",
              "      <td>1100000</td>\n",
              "    </tr>\n",
              "    <tr>\n",
              "      <th>276</th>\n",
              "      <td>13612744000109</td>\n",
              "      <td>13612744</td>\n",
              "      <td>MATRIZ</td>\n",
              "      <td>PLIGG CONSULTORIA EM TECNOLOGIA DA INFORMACAO ...</td>\n",
              "      <td>SIM</td>\n",
              "      <td>1000000</td>\n",
              "    </tr>\n",
              "    <tr>\n",
              "      <th>482</th>\n",
              "      <td>29309746000163</td>\n",
              "      <td>29309746</td>\n",
              "      <td>MATRIZ</td>\n",
              "      <td>GO4 TECNOLOGIA DA INFORMACAO LTDA</td>\n",
              "      <td>SIM</td>\n",
              "      <td>960000</td>\n",
              "    </tr>\n",
              "  </tbody>\n",
              "</table>\n",
              "</div>"
            ],
            "text/plain": [
              "               cnpj  raiz_cnpj  ... opcao_pelo_simples capital_social\n",
              "571  33067005000190   33067005  ...                SIM        1100000\n",
              "276  13612744000109   13612744  ...                SIM        1000000\n",
              "482  29309746000163   29309746  ...                SIM         960000\n",
              "\n",
              "[3 rows x 6 columns]"
            ]
          },
          "metadata": {},
          "execution_count": 27
        }
      ]
    },
    {
      "cell_type": "code",
      "metadata": {
        "colab": {
          "base_uri": "https://localhost:8080/",
          "height": 161
        },
        "id": "OO7yjNOLnDc8",
        "outputId": "0212ad5e-cddb-44d2-d4a1-feb77bcc2429"
      },
      "source": [
        "#agora vamos aos que não optaram pelo simples:\n",
        "df_simples_nao = df_Empresa.loc[df_Empresa['opcao_pelo_simples']=='NAO']\n",
        "\n",
        "df_simples_nao.sort_values(by=['capital_social'], ascending=False).head(3)"
      ],
      "execution_count": 28,
      "outputs": [
        {
          "output_type": "execute_result",
          "data": {
            "text/html": [
              "<div>\n",
              "<style scoped>\n",
              "    .dataframe tbody tr th:only-of-type {\n",
              "        vertical-align: middle;\n",
              "    }\n",
              "\n",
              "    .dataframe tbody tr th {\n",
              "        vertical-align: top;\n",
              "    }\n",
              "\n",
              "    .dataframe thead th {\n",
              "        text-align: right;\n",
              "    }\n",
              "</style>\n",
              "<table border=\"1\" class=\"dataframe\">\n",
              "  <thead>\n",
              "    <tr style=\"text-align: right;\">\n",
              "      <th></th>\n",
              "      <th>cnpj</th>\n",
              "      <th>raiz_cnpj</th>\n",
              "      <th>matriz_filial</th>\n",
              "      <th>razao_social</th>\n",
              "      <th>opcao_pelo_simples</th>\n",
              "      <th>capital_social</th>\n",
              "    </tr>\n",
              "  </thead>\n",
              "  <tbody>\n",
              "    <tr>\n",
              "      <th>99</th>\n",
              "      <td>5337875000105</td>\n",
              "      <td>5337875</td>\n",
              "      <td>MATRIZ</td>\n",
              "      <td>NEOWAY TECNOLOGIA INTEGRADA ASSESSORIA E NEGOC...</td>\n",
              "      <td>NAO</td>\n",
              "      <td>113860009</td>\n",
              "    </tr>\n",
              "    <tr>\n",
              "      <th>67</th>\n",
              "      <td>4121834000106</td>\n",
              "      <td>4121834</td>\n",
              "      <td>MATRIZ</td>\n",
              "      <td>MACNICA DHW LTDA</td>\n",
              "      <td>NAO</td>\n",
              "      <td>21350251</td>\n",
              "    </tr>\n",
              "    <tr>\n",
              "      <th>576</th>\n",
              "      <td>33332029000120</td>\n",
              "      <td>33332029</td>\n",
              "      <td>MATRIZ</td>\n",
              "      <td>INTERGALAXY HOLDINGS SA</td>\n",
              "      <td>NAO</td>\n",
              "      <td>12575391</td>\n",
              "    </tr>\n",
              "  </tbody>\n",
              "</table>\n",
              "</div>"
            ],
            "text/plain": [
              "               cnpj  raiz_cnpj  ... opcao_pelo_simples capital_social\n",
              "99    5337875000105    5337875  ...                NAO      113860009\n",
              "67    4121834000106    4121834  ...                NAO       21350251\n",
              "576  33332029000120   33332029  ...                NAO       12575391\n",
              "\n",
              "[3 rows x 6 columns]"
            ]
          },
          "metadata": {},
          "execution_count": 28
        }
      ]
    },
    {
      "cell_type": "markdown",
      "metadata": {
        "id": "J1l8tL1OoyB_"
      },
      "source": [
        "#####Podemos observar que as empresas que não optaram pelo simples tem um capital social muito mais elevado comparado aos que optaram pelo simples."
      ]
    },
    {
      "cell_type": "code",
      "metadata": {
        "id": "g7FNE2RDpCcb"
      },
      "source": [
        ""
      ],
      "execution_count": null,
      "outputs": []
    }
  ]
}